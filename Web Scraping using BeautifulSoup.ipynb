{
 "cells": [
  {
   "cell_type": "code",
   "execution_count": 1,
   "metadata": {
    "collapsed": true
   },
   "outputs": [],
   "source": [
    "# Web Scraping NPR.com headlines"
   ]
  },
  {
   "cell_type": "code",
   "execution_count": 36,
   "metadata": {
    "collapsed": true
   },
   "outputs": [],
   "source": [
    "import requests\n",
    "content = requests.get('http://www.bbc.com').content"
   ]
  },
  {
   "cell_type": "code",
   "execution_count": 37,
   "metadata": {},
   "outputs": [
    {
     "data": {
      "text/plain": [
       "b' <!DOCTYPE'"
      ]
     },
     "execution_count": 37,
     "metadata": {},
     "output_type": "execute_result"
    }
   ],
   "source": [
    "content[:10]"
   ]
  },
  {
   "cell_type": "code",
   "execution_count": 40,
   "metadata": {},
   "outputs": [
    {
     "data": {
      "text/plain": [
       "53664"
      ]
     },
     "execution_count": 40,
     "metadata": {},
     "output_type": "execute_result"
    }
   ],
   "source": [
    "str(content).index('media__link')"
   ]
  },
  {
   "cell_type": "code",
   "execution_count": 41,
   "metadata": {
    "collapsed": true
   },
   "outputs": [],
   "source": [
    "from bs4 import BeautifulSoup\n",
    "s2 = BeautifulSoup(content, \"lxml\")"
   ]
  },
  {
   "cell_type": "code",
   "execution_count": 52,
   "metadata": {},
   "outputs": [
    {
     "data": {
      "text/plain": [
       "['A Decade After The Bubble Burst, House Flipping Is On The Rise',\n",
       " '1 Person Dies After Southwest Jet With Engine Trouble Makes Emergency Landing',\n",
       " 'NPR Newscaster Carl Kasell Dies At 84, After A Lifelong Career On-Air',\n",
       " 'Starbucks Closing 8,000 Stores For Afternoon Session In Racial Bias Education',\n",
       " 'Trump Asks For More Time To File His Taxes',\n",
       " \"It's Tax Day. And The IRS' Online Payment Service Is Down\",\n",
       " 'With Philadelphia Arrests, Starbucks Again Becomes Focus Of Cultural Debate',\n",
       " \"James Comey To 'Fresh Air': The FBI Isn't 'On Anybody's Side'\",\n",
       " \"James Comey Says FBI 'Would Be Worse Today' If Not For His Actions\",\n",
       " 'Supreme Court Strikes Down Part Of Immigration Law',\n",
       " 'Video Shows Police Tackling, Punching Black Harvard Student',\n",
       " \"After Detailing Russian Hack, White House Cyber 'Czar' Announces Departure\",\n",
       " \"'Father Of Gynecology,' Who Experimented On Slaves, No Longer On Pedestal\",\n",
       " \"Armenia's Ancient Motal Cheese Makes Its Way Into The Modern Age\",\n",
       " 'Life Above A Library Was Like Living In Neverland',\n",
       " \"How Funny Is The New Africa Correspondent for Trevor Noah's 'Daily Show'?\",\n",
       " 'Moderate GOP Rep. Charlie Dent To Resign',\n",
       " \"Welcome, 'Little One': Critically Endangered Gorilla Born At National Zoo\",\n",
       " \"Trade And Nukes On The Agenda As Trump Meets Japan's Prime Minister\",\n",
       " \"Japan's Premier Visits Trump Amid Troubles Both Foreign And Domestic\",\n",
       " \"Beijing Forges Ahead With 'Made In China' Policy, Targeted By Proposed U.S. Tariffs\",\n",
       " \"Amid Protests, Armenian Lawmakers Preserve Ex-President's Place In Power\",\n",
       " 'Bullied For Its Faith, Muslim Family Fights Back Through Education',\n",
       " 'Swan Songs: Music For Your Final Exit',\n",
       " \"Harry Anderson, Judge On 'Night Court,' Dies At His N.C. Home. He Was 65\",\n",
       " 'Will You Soon Have To Pay Sales Tax On Every Online Purchase?',\n",
       " \"Who's In Charge? Potential Leadership Shake-Ups Leave Agencies In Limbo\",\n",
       " 'How Birds-To-Be Get Oxygen Inside Eggs',\n",
       " 'NPR/NewsHour/Marist Poll: Republicans Sour On Mueller, FBI; See Bias In Russia Probe',\n",
       " 'New York City Mice Carry Bacteria That Can Make People Sick']"
      ]
     },
     "execution_count": 52,
     "metadata": {},
     "output_type": "execute_result"
    }
   ],
   "source": [
    "s2 = BeautifulSoup(requests.get('http://www.npr.org').content, \"lxml\")\n",
    "[x.text for x in s2.find_all('h1', {'class': \"title\"})]"
   ]
  },
  {
   "cell_type": "code",
   "execution_count": null,
   "metadata": {
    "collapsed": true
   },
   "outputs": [],
   "source": []
  },
  {
   "cell_type": "code",
   "execution_count": 58,
   "metadata": {},
   "outputs": [
    {
     "data": {
      "text/plain": [
       "['News',\n",
       " 'Arts & Life',\n",
       " 'Music',\n",
       " 'More',\n",
       " 'News & Conversations',\n",
       " 'Storytelling & Humor',\n",
       " 'Music',\n",
       " 'More']"
      ]
     },
     "execution_count": 58,
     "metadata": {},
     "output_type": "execute_result"
    }
   ],
   "source": [
    "s2 = BeautifulSoup(requests.get('http://www.npr.org').content, \"lxml\")\n",
    "[x.text for x in s2.find_all('h3', {'class': \"group-hdr\"})]"
   ]
  },
  {
   "cell_type": "code",
   "execution_count": null,
   "metadata": {
    "collapsed": true
   },
   "outputs": [],
   "source": []
  }
 ],
 "metadata": {
  "kernelspec": {
   "display_name": "Python 3",
   "language": "python",
   "name": "python3"
  },
  "language_info": {
   "codemirror_mode": {
    "name": "ipython",
    "version": 3
   },
   "file_extension": ".py",
   "mimetype": "text/x-python",
   "name": "python",
   "nbconvert_exporter": "python",
   "pygments_lexer": "ipython3",
   "version": "3.6.3"
  }
 },
 "nbformat": 4,
 "nbformat_minor": 2
}
